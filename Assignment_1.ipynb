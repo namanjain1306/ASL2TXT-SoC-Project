{
 "cells": [
  {
   "cell_type": "markdown",
   "metadata": {
    "colab_type": "text",
    "id": "view-in-github"
   },
   "source": [
    "<a href=\"https://colab.research.google.com/github/Mehul-Agrawal410/SpeakSpeare/blob/main/Week%201/Assignment_1.ipynb\" target=\"_parent\"><img src=\"https://colab.research.google.com/assets/colab-badge.svg\" alt=\"Open In Colab\"/></a>"
   ]
  },
  {
   "cell_type": "markdown",
   "metadata": {
    "id": "Nrq1XfObkug2"
   },
   "source": [
    "# **Python**"
   ]
  },
  {
   "cell_type": "markdown",
   "metadata": {
    "id": "Ig3HoMi7XsFL"
   },
   "source": [
    "The following questions are designed to test your basic undersatnding of python in topics such as recursion, functions, loop and classes. DO NOT use ChatGPT for this as it is important that you understand and clarify the basics here because it won't be able to help you on later stages of this project. So it's best to discuss your doubts on the group or ask us mentors. Have fun solving this assignment :)"
   ]
  },
  {
   "cell_type": "markdown",
   "metadata": {
    "id": "p1n0OwlNkug4"
   },
   "source": [
    "**Q1. Create a function to calculate a factorial of a number, using recursion.**"
   ]
  },
  {
   "cell_type": "code",
   "execution_count": 4,
   "metadata": {
    "id": "j3HKaA4IXsFN"
   },
   "outputs": [
    {
     "name": "stdout",
     "output_type": "stream",
     "text": [
      "120\n"
     ]
    }
   ],
   "source": [
    "def factorial(n):\n",
    "    if n == 0 or n == 1:\n",
    "        return 1\n",
    "    return n*factorial(n-1)\n",
    "\n",
    "print (factorial(5))"
   ]
  },
  {
   "cell_type": "markdown",
   "metadata": {
    "id": "obQO9ik9XsFN"
   },
   "source": [
    "\n",
    "**Q2. Create a class called \"Car\" that inherits from a parent class called \"Vehicle\". Additionally, the \"Car\" class should have a method to calculate the fuel efficiency, a property to track the current speed, and a class variable to keep track of the total number of cars created.**"
   ]
  },
  {
   "cell_type": "code",
   "execution_count": null,
   "metadata": {
    "id": "FM7-VeBNXsFO"
   },
   "outputs": [],
   "source": []
  },
  {
   "cell_type": "markdown",
   "metadata": {
    "id": "YtiLK_6-XsFO"
   },
   "source": [
    "**Q3. Write a function called \"reverse_string\" that takes a string as input and returns the reverse of the input string.**"
   ]
  },
  {
   "cell_type": "code",
   "execution_count": 10,
   "metadata": {
    "id": "hhJ-TMZ4XsFO"
   },
   "outputs": [
    {
     "name": "stdout",
     "output_type": "stream",
     "text": [
      "olleh\n"
     ]
    }
   ],
   "source": [
    "\n",
    "def reverse_string(s): \n",
    "    return s[::-1]\n",
    "\n",
    "print(reverse_string(\"hello\"))\n"
   ]
  },
  {
   "cell_type": "markdown",
   "metadata": {
    "id": "uApbHAIxXsFO"
   },
   "source": [
    "**Q4. Write a program to calculate the sum of all the even numbers between 1 and 100 which are not divisible by 5 and 7 using a for-loop**"
   ]
  },
  {
   "cell_type": "code",
   "execution_count": 8,
   "metadata": {
    "id": "R4P389cjXsFO"
   },
   "outputs": [
    {
     "name": "stdout",
     "output_type": "stream",
     "text": [
      "4945\n"
     ]
    }
   ],
   "source": [
    "sum = 0\n",
    "\n",
    "for x in range(1, 101):\n",
    "    if x % 5 != 0 or x % 7 != 0:\n",
    "        sum += x\n",
    "    else:\n",
    "        continue\n",
    "\n",
    "print(sum)\n"
   ]
  },
  {
   "cell_type": "markdown",
   "metadata": {
    "id": "c4t97kfpXsFP"
   },
   "source": [
    "**Q5. Create a dictionary with the following key-value pairs: \"name\" - \"John\", \"age\" - 25, \"city\" - \"New York\". Write a program that prints out the keys and values of the dictionary.**"
   ]
  },
  {
   "cell_type": "code",
   "execution_count": 12,
   "metadata": {
    "id": "NUoZJxZRXsFP"
   },
   "outputs": [
    {
     "name": "stdout",
     "output_type": "stream",
     "text": [
      "name: John\n",
      "age: 25\n",
      "city: New York\n"
     ]
    }
   ],
   "source": [
    "y_dictionary = {\"name\": \"John\", \"age\" : \"25\" , \"city\" : \"New York\"}\n",
    "for key, value in y_dictionary.items():\n",
    "    print(f\"{key}: {value}\")"
   ]
  },
  {
   "cell_type": "markdown",
   "metadata": {
    "id": "1HVhQ2Q-XsFP"
   },
   "source": [
    "**Q6. Write a function that takes a list of numbers as input and returns the second largest number in the list, without using any built-in sorting functions or the max() function.**"
   ]
  },
  {
   "cell_type": "code",
   "execution_count": 13,
   "metadata": {
    "id": "LQTabMTrXsFQ"
   },
   "outputs": [
    {
     "name": "stdout",
     "output_type": "stream",
     "text": [
      "The second largest number is: 4\n"
     ]
    }
   ],
   "source": [
    "def second_largest(numbers):\n",
    "    if len(numbers) < 2:\n",
    "        return None  \n",
    "    largest = second_largest = float('-inf')\n",
    "    for number in numbers:\n",
    "        if number > largest:\n",
    "            second_largest = largest\n",
    "            largest = number\n",
    "        elif number > second_largest and number != largest:\n",
    "            second_largest = number\n",
    "\n",
    "    return second_largest if second_largest != float('-inf') else None\n",
    "\n",
    "numbers = [1, 3, 4, 5, 0, 2]\n",
    "result = second_largest(numbers)\n",
    "print(f\"The second largest number is: {result}\")\n"
   ]
  },
  {
   "cell_type": "markdown",
   "metadata": {
    "id": "MbvsDuzLano5"
   },
   "source": [
    "# **NumPy**\n",
    "In this assignment, you will be familiarized with the usage of the NumPy library and how to use vectorization to speed up computations in comparision to iterative approaches.\n",
    "\n",
    "You are to only write/modify the code in between consecutive `# < START >` and `# < END >` comments. DO NOT modify other parts of the notebook, your assignments will not be graded otherwise.\n",
    "```python\n",
    "\"Don't modify any code here\"\n",
    "\n",
    "# < START >\n",
    "\"YOUR CODE GOES HERE!\"\n",
    "# < END >\n",
    "\n",
    "\"Don't modify any code here\"\n",
    "```\n",
    "\n",
    "<!---Need to include clarification about arrays?-->\n",
    "\n",
    "**Start by running the below cell, to import the NumPy library.**"
   ]
  },
  {
   "cell_type": "code",
   "execution_count": 14,
   "metadata": {
    "id": "GHqaQIZwaqrb"
   },
   "outputs": [],
   "source": [
    "import numpy as np"
   ]
  },
  {
   "cell_type": "markdown",
   "metadata": {
    "id": "7_q9CV0oqiQE"
   },
   "source": [
    "### **Initializating Arrays**\n",
    "NumPy offers multiple methods to create and populate arrays\n",
    "- Create a $2\\times3$ array identical to\n",
    "$\\begin{bmatrix}\n",
    "1 & 2 & 4\\\\\n",
    "7 & 13 & 21\\\\\n",
    "\\end{bmatrix}$, and assign it to a variable `arr`.  "
   ]
  },
  {
   "cell_type": "code",
   "execution_count": 17,
   "metadata": {
    "id": "DOSodBqMsPFx"
   },
   "outputs": [
    {
     "name": "stdout",
     "output_type": "stream",
     "text": [
      "[[ 1  2  4]\n",
      " [ 7 13 21]]\n",
      "Shape: (2, 3)\n"
     ]
    }
   ],
   "source": [
    "# < START >\n",
    "arr = np.array([[1,2,4],[7,13,21]])\n",
    "# < END >\n",
    "\n",
    "print(arr)\n",
    "print(\"Shape:\", arr.shape)"
   ]
  },
  {
   "cell_type": "markdown",
   "metadata": {
    "id": "ow7eYNN0uqOc"
   },
   "source": [
    "You should be able to see that the `shape` property of an array lets you access its dimensions.  \n",
    "For us, this is a handy way to ensure that the dimensions of an array are what we expect, allowing us to easily debug programs."
   ]
  },
  {
   "cell_type": "markdown",
   "metadata": {
    "id": "3sRFnmJrWY0S"
   },
   "source": [
    "- Initialize a NumPy array `x` of dimensions $2\\times3$ with random values.  \n",
    "Do not use the values of the dimensions directly, instead use the variables provided as arguments.\n",
    "<details>\n",
    "  <summary>Hint</summary>\n",
    "  <a href=\"https://numpy.org/doc/stable/reference/random/generated/numpy.random.randn.html#numpy-random-randn\">np.random.randn()</a>\n",
    "</details>"
   ]
  },
  {
   "cell_type": "code",
   "execution_count": 21,
   "metadata": {
    "id": "VVrePkvxW2K9"
   },
   "outputs": [
    {
     "name": "stdout",
     "output_type": "stream",
     "text": [
      "[[92 71 53]\n",
      " [42 51 19]]\n"
     ]
    }
   ],
   "source": [
    "n_rows = 2\n",
    "n_columns = 3\n",
    "\n",
    "# <START>\n",
    "x= np.random.randint(100, size=(n_rows,n_columns))\n",
    "\n",
    "# <END>\n",
    "\n",
    "print(x)"
   ]
  },
  {
   "cell_type": "markdown",
   "metadata": {
    "id": "j7XlM8Bwchhm"
   },
   "source": [
    "A few more basic methods to initialize arrays exist.\n",
    "Feel free to read up online to complete the code snippets."
   ]
  },
  {
   "cell_type": "code",
   "execution_count": 26,
   "metadata": {
    "id": "hG59Eh_edKNy"
   },
   "outputs": [
    {
     "name": "stdout",
     "output_type": "stream",
     "text": [
      "[[[0. 0.]\n",
      "  [0. 0.]\n",
      "  [0. 0.]\n",
      "  [0. 0.]\n",
      "  [0. 0.]]\n",
      "\n",
      " [[0. 0.]\n",
      "  [0. 0.]\n",
      "  [0. 0.]\n",
      "  [0. 0.]\n",
      "  [0. 0.]]\n",
      "\n",
      " [[0. 0.]\n",
      "  [0. 0.]\n",
      "  [0. 0.]\n",
      "  [0. 0.]\n",
      "  [0. 0.]]\n",
      "\n",
      " [[0. 0.]\n",
      "  [0. 0.]\n",
      "  [0. 0.]\n",
      "  [0. 0.]\n",
      "  [0. 0.]]]\n",
      "[[[1. 1.]\n",
      "  [1. 1.]\n",
      "  [1. 1.]\n",
      "  [1. 1.]\n",
      "  [1. 1.]]\n",
      "\n",
      " [[1. 1.]\n",
      "  [1. 1.]\n",
      "  [1. 1.]\n",
      "  [1. 1.]\n",
      "  [1. 1.]]\n",
      "\n",
      " [[1. 1.]\n",
      "  [1. 1.]\n",
      "  [1. 1.]\n",
      "  [1. 1.]\n",
      "  [1. 1.]]\n",
      "\n",
      " [[1. 1.]\n",
      "  [1. 1.]\n",
      "  [1. 1.]\n",
      "  [1. 1.]\n",
      "  [1. 1.]]]\n"
     ]
    }
   ],
   "source": [
    "# < START >\n",
    "# Initialize an array ZERO_ARR of dimensions (4, 5, 2) whose every element is 0\n",
    "ZERO_ARR = np.zeros((4,5,2))\n",
    "# < END >\n",
    "\n",
    "print(ZERO_ARR)\n",
    "\n",
    "# < START >\n",
    "# Initialize an array ONE_ARR of dimensions (4, 5, 2) whose every element is 1\n",
    "ONE_ARR = np.ones((4,5,2))\n",
    "\n",
    "# < END >\n",
    "\n",
    "print(ONE_ARR)"
   ]
  },
  {
   "cell_type": "markdown",
   "metadata": {
    "id": "19eX-3suIKcF"
   },
   "source": [
    "You can also transpose arrays (same as with matrices), but a more general and commonly used function is the `array.reshape()` function.\n",
    "\n",
    "$$\n",
    "\\begin{bmatrix}\n",
    "a & d\\\\\n",
    "b & e\\\\\n",
    "c & f\\\\\n",
    "\\end{bmatrix}\n",
    "\\xleftarrow{\\text{.T}}\n",
    "\\begin{bmatrix}\n",
    "a & b & c\\\\\n",
    "d & e & f\\\\\n",
    "\\end{bmatrix}\n",
    "\\xrightarrow{\\text{.reshape(3, 2)}}\n",
    "\\begin{bmatrix}\n",
    "a & b\\\\\n",
    "c & d\\\\\n",
    "e & f\\\\\n",
    "\\end{bmatrix}\n",
    "\\xrightarrow{\\text{.reshape(6,1)}}\n",
    "\\begin{bmatrix}\n",
    "a\\\\b\\\\c\\\\d\\\\e\\\\f\\\\\n",
    "\\end{bmatrix}\n",
    "$$\n",
    "`reshape` is commonly used to flatten data stored in multi-dimensional arrays (ex: a 2D array representing a B/W image)\n",
    "\n",
    "- Try it out yourself:"
   ]
  },
  {
   "cell_type": "code",
   "execution_count": 30,
   "metadata": {
    "id": "72poNlj4H4dv"
   },
   "outputs": [
    {
     "name": "stdout",
     "output_type": "stream",
     "text": [
      "[[1 4]\n",
      " [2 5]\n",
      " [3 6]]\n",
      "[[1]\n",
      " [2]\n",
      " [3]\n",
      " [4]\n",
      " [5]\n",
      " [6]]\n"
     ]
    }
   ],
   "source": [
    "y = np.array([[1, 2, 3],\n",
    "              [4, 5, 6]])\n",
    "\n",
    "# < START >\n",
    "# Create a new array y_transpose that is the transpose of matrix y\n",
    "y_transpose = np.transpose(y)\n",
    "# < END >\n",
    "\n",
    "print(y_transpose)\n",
    "\n",
    "# < START >\n",
    "# Create a new array y_flat that contains the same elements as y but has been flattened to a column array\n",
    "y_flat = y.reshape(6,1)\n",
    "# < END >\n",
    "\n",
    "print(y_flat)"
   ]
  },
  {
   "cell_type": "markdown",
   "metadata": {
    "id": "OmHhW0gtXn4C"
   },
   "source": [
    "- Create a `y` with dimensions $3\\times1$ (column matrix), with elements $4,7$ and $11$.  \n",
    "$$y = \\begin{bmatrix}\n",
    "4\\\\\n",
    "7\\\\\n",
    "11\n",
    "\\end{bmatrix}$$  "
   ]
  },
  {
   "cell_type": "code",
   "execution_count": 36,
   "metadata": {
    "id": "_OB_fi7zW57S"
   },
   "outputs": [
    {
     "name": "stdout",
     "output_type": "stream",
     "text": [
      "[[ 4]\n",
      " [ 7]\n",
      " [11]]\n"
     ]
    },
    {
     "ename": "AssertionError",
     "evalue": "",
     "output_type": "error",
     "traceback": [
      "\u001b[1;31m---------------------------------------------------------------------------\u001b[0m",
      "\u001b[1;31mAssertionError\u001b[0m                            Traceback (most recent call last)",
      "Cell \u001b[1;32mIn[36], line 15\u001b[0m\n\u001b[0;32m     10\u001b[0m \u001b[38;5;28mprint\u001b[39m(y)\n\u001b[0;32m     12\u001b[0m \u001b[38;5;66;03m# <START>\u001b[39;00m\n\u001b[0;32m     13\u001b[0m \u001b[38;5;66;03m# <END>\u001b[39;00m\n\u001b[1;32m---> 15\u001b[0m \u001b[38;5;28;01massert\u001b[39;00m y\u001b[38;5;241m.\u001b[39mshape \u001b[38;5;241m==\u001b[39m (\u001b[38;5;241m2\u001b[39m, \u001b[38;5;241m1\u001b[39m)\n\u001b[0;32m     17\u001b[0m \u001b[38;5;28mprint\u001b[39m(y)\n",
      "\u001b[1;31mAssertionError\u001b[0m: "
     ]
    }
   ],
   "source": [
    "# <START>\n",
    "# Initialize the column matrix here\n",
    "y = np.array([[4],[7],[11]])\n",
    "# <END>\n",
    "\n",
    "assert y.shape == (3, 1)\n",
    "# The above line is an assert statement, which halts the program if the given condition evaluates to False.\n",
    "# Assert statements are frequently used in neural network programs to ensure our matrices are of the right dimensions.\n",
    "\n",
    "print(y)\n",
    "\n",
    "# <START>\n",
    "# <END>\n",
    "\n",
    "assert y.shape == (2, 1)\n",
    "\n",
    "print(y)"
   ]
  },
  {
   "cell_type": "markdown",
   "metadata": {
    "id": "qQBkm2K9eMiu"
   },
   "source": [
    "### **Indexing & Slicing**\n",
    "Just like with normal arrays, you can access an element at the `(i,j)` position using `array[i][j]`.  \n",
    "However, NumPy allows you to do the same using `array[i, j]`, and this form is more efficient and simpler to use.\n",
    "<details>\n",
    "<summary><i>(Optional) Why is it more efficient?</i></summary>\n",
    "The former case is more inefficient as a new temporary array is created after the first index i, that is then indexed by j.\n",
    "</details>\n",
    "\n",
    "```python\n",
    "x = np.array([[1,3,5],[4,7,11],[5,10,20]])\n",
    "\n",
    "x[1][2] #11\n",
    "x[1,2]  #11 <-- Prefer this\n",
    "```"
   ]
  },
  {
   "cell_type": "markdown",
   "metadata": {
    "id": "ptZtfq3dUE25"
   },
   "source": [
    "Slicing is another important feature of NumPy arrays. The syntax is the same as that of slicing in Python lists.\n",
    "  We pass the slice as\n",
    "\n",
    "```python\n",
    "  sliced_array = array[start:end:step]\n",
    "  # The second colon (:) is only needed\n",
    "  # if you want to use a step other than 1\n",
    "```\n",
    "By default, `start` is 0, `end` is the array length (in that dimension), and `step` is 1.\n",
    "Remember that `end` is not included in the slice.\n",
    "\n",
    "  Implement array slicing as instructed in the following examples\n",
    "\n"
   ]
  },
  {
   "cell_type": "code",
   "execution_count": 39,
   "metadata": {
    "id": "Rb3_CEkYVHRV"
   },
   "outputs": [
    {
     "name": "stdout",
     "output_type": "stream",
     "text": [
      "[1 5 6]\n",
      "[ 2  4  6  8 10]\n"
     ]
    }
   ],
   "source": [
    "x = np.array([4, 1, 5, 6, 11])\n",
    "\n",
    "# <START>\n",
    "# Create a new array y with the middle 3 elements of x\n",
    "y = x[1:4]\n",
    "# <END>\n",
    "\n",
    "print(y)\n",
    "\n",
    "z = np.array([1, 2, 3, 4, 5, 6, 7, 8, 9, 10])\n",
    "w = z[1::2]\n",
    "\n",
    "# <START>\n",
    "# Create a new array w with alternating elements of z\n",
    "\n",
    "# <END>\n",
    "\n",
    "print(w)"
   ]
  },
  {
   "cell_type": "markdown",
   "metadata": {
    "id": "MeHuSp4YHjpT"
   },
   "source": [
    "A combination of indexing and slicing can be used to access rows, columns and sub-arrays of 2D arrays.\n",
    "\n",
    "```python\n",
    "arr = np.array([\n",
    "          [1, 2, 3],\n",
    "          [4, 5, 6],\n",
    "          [7, 8, 9]])\n",
    "\n",
    "print(arr[0])       #[1 2 3]\n",
    "print(arr[:,2])     #[3 6 9]\n",
    "print(arr[0:2,0:2]) #[[1 2]\n",
    "                    # [4 5]]\n",
    "```"
   ]
  },
  {
   "cell_type": "code",
   "execution_count": 51,
   "metadata": {
    "id": "mvrmhMiUHjMm"
   },
   "outputs": [
    {
     "name": "stdout",
     "output_type": "stream",
     "text": [
      "[[5 2]\n",
      " [7 9]\n",
      " [4 5]]\n"
     ]
    }
   ],
   "source": [
    "arr_2d = np.array([[4, 5, 2],\n",
    "          [3, 7, 9],\n",
    "          [1, 4, 5],\n",
    "          [6, 6, 1]])\n",
    "\n",
    "# <START>\n",
    "# Create a 2D array sliced_arr_2d that is of the form [[5, 2], [7, 9], [4, 5]]\n",
    "sliced_arr_2d = arr_2d[0:3,1:3]\n",
    "# <END>\n",
    "\n",
    "print(sliced_arr_2d)"
   ]
  },
  {
   "cell_type": "markdown",
   "metadata": {
    "id": "3wusjBpUZ4YM"
   },
   "source": [
    "### **Broadcasting**\n",
    "\n",
    "This feature allows for flexibility in array operations. It lets us implement highly efficient algorithms with minimal use of memory."
   ]
  },
  {
   "cell_type": "code",
   "execution_count": 52,
   "metadata": {
    "id": "JMYM8LIYbKdV"
   },
   "outputs": [
    {
     "name": "stdout",
     "output_type": "stream",
     "text": [
      "[2 3 4 5]\n",
      "[ 4  8 12]\n"
     ]
    }
   ],
   "source": [
    "arr1 = np.array([1, 2, 3, 4])\n",
    "b = 1\n",
    "\n",
    "# <START>\n",
    "# Implement broadcasting to add b to each element of arr1\n",
    "arr1 = arr1 + b\n",
    "\n",
    "# <END>\n",
    "\n",
    "print(arr1)\n",
    "\n",
    "arr2 = np.array([[1, 2, 3],\n",
    "                 [4, 5, 6]])\n",
    "arr3 = np.array([[4],\n",
    "                 [5]])\n",
    "\n",
    "# <START>\n",
    "# Multiply each element of the first row of arr2 by 4 and each element of the second row by 5, using only arr2 and arr3\n",
    "arr2 = 4* arr2[0]\n",
    "\n",
    "# <END>\n",
    "\n",
    "print(arr2)"
   ]
  },
  {
   "cell_type": "markdown",
   "metadata": {
    "id": "ZKz_znd7WfhP"
   },
   "source": [
    "### **Vectorization**\n",
    "\n",
    "From what we've covered so far, it might not be clear as to why we need to use vectorization. To understand this, let's compare the execution times of a non-vectorized program and a vectorized one.\n",
    "\n",
    "Your goal is to multiply each element of the 2D arrays by 3. Implement this using both non-vectorized and vectorized approaches."
   ]
  },
  {
   "cell_type": "code",
   "execution_count": 53,
   "metadata": {
    "id": "RheVdAh4WyA1"
   },
   "outputs": [
    {
     "name": "stdout",
     "output_type": "stream",
     "text": [
      "Time taken in non-vectorized approach: 2.1681785583496094 ms\n",
      "Time taken in vectorized approach: 0.0 ms\n"
     ]
    }
   ],
   "source": [
    "import time\n",
    "\n",
    "arr_nonvectorized = np.random.rand(1000, 1000)\n",
    "arr_vectorized = np.array(arr_nonvectorized) # making a deep copy of the array\n",
    "\n",
    "start_nv = time.time()\n",
    "\n",
    "# Non-vectorized approach\n",
    "# <START>\n",
    "arr_nonvectorized = 3*arr_nonvectorized\n",
    "\n",
    "\n",
    "# <END>\n",
    "\n",
    "end_nv = time.time()\n",
    "print(\"Time taken in non-vectorized approach:\", 1000*(end_nv-start_nv), \"ms\")\n",
    "\n",
    "start_v = time.time()\n",
    "\n",
    "# Vectorized approach\n",
    "# <START>\n",
    "arr_vectorized=3*arr_vectorized\n",
    "# <END>\n",
    "\n",
    "end_v = time.time()\n",
    "print(\"Time taken in vectorized approach:\", 1000*(end_v-start_v), \"ms\")\n",
    "\n",
    "# uncomment and execute the below line to convince yourself that both approaches are doing the same thing\n",
    "# print(arr_vectorized)"
   ]
  },
  {
   "cell_type": "markdown",
   "metadata": {
    "id": "W2FkvxAsbyzc"
   },
   "source": [
    "Try playing around with the dimensions of the array. You'll find that there isn't much difference in the execution times when the dimensions are small. But in neural networks, we often deal with very large datasets and so vectorization is a very important tool."
   ]
  },
  {
   "cell_type": "markdown",
   "metadata": {
    "id": "DBlRPY0XkuhF"
   },
   "source": [
    "# **Pandas**"
   ]
  },
  {
   "cell_type": "markdown",
   "metadata": {
    "id": "WGrOQ8MGkuhG"
   },
   "source": [
    "This section will help you get familiar with various functions of pandas and how to use them.\n",
    "\n",
    "As you go through this section, you will find a ??? in certain places. To complete this section, you must replace all the ??? with appropriate values, expressions or statements to ensure that the notebook runs properly end-to-end"
   ]
  },
  {
   "cell_type": "markdown",
   "metadata": {
    "id": "0ky8jz6vkuhG"
   },
   "source": [
    "\n",
    "Let's start by importing the pandas library"
   ]
  },
  {
   "cell_type": "code",
   "execution_count": 57,
   "metadata": {
    "id": "F_P2upkdkuhG"
   },
   "outputs": [],
   "source": [
    "import pandas as pd"
   ]
  },
  {
   "cell_type": "markdown",
   "metadata": {
    "id": "KIOM97IwkuhG"
   },
   "source": [
    "### **Loading data using url**"
   ]
  },
  {
   "cell_type": "code",
   "execution_count": 60,
   "metadata": {
    "id": "saHzZC87kuhH"
   },
   "outputs": [
    {
     "data": {
      "text/html": [
       "<div>\n",
       "<style scoped>\n",
       "    .dataframe tbody tr th:only-of-type {\n",
       "        vertical-align: middle;\n",
       "    }\n",
       "\n",
       "    .dataframe tbody tr th {\n",
       "        vertical-align: top;\n",
       "    }\n",
       "\n",
       "    .dataframe thead th {\n",
       "        text-align: right;\n",
       "    }\n",
       "</style>\n",
       "<table border=\"1\" class=\"dataframe\">\n",
       "  <thead>\n",
       "    <tr style=\"text-align: right;\">\n",
       "      <th></th>\n",
       "      <th>Country</th>\n",
       "      <th>Region</th>\n",
       "      <th>Population</th>\n",
       "      <th>GDP ($ per capita)</th>\n",
       "      <th>Literacy (%)</th>\n",
       "      <th>Climate</th>\n",
       "    </tr>\n",
       "  </thead>\n",
       "  <tbody>\n",
       "    <tr>\n",
       "      <th>0</th>\n",
       "      <td>Afghanistan</td>\n",
       "      <td>ASIA (EX. NEAR EAST)</td>\n",
       "      <td>31056997</td>\n",
       "      <td>700.0</td>\n",
       "      <td>36.0</td>\n",
       "      <td>1.0</td>\n",
       "    </tr>\n",
       "    <tr>\n",
       "      <th>1</th>\n",
       "      <td>Albania</td>\n",
       "      <td>EASTERN EUROPE</td>\n",
       "      <td>3581655</td>\n",
       "      <td>4500.0</td>\n",
       "      <td>86.5</td>\n",
       "      <td>3.0</td>\n",
       "    </tr>\n",
       "    <tr>\n",
       "      <th>2</th>\n",
       "      <td>Algeria</td>\n",
       "      <td>NORTHERN AFRICA</td>\n",
       "      <td>32930091</td>\n",
       "      <td>6000.0</td>\n",
       "      <td>70.0</td>\n",
       "      <td>1.0</td>\n",
       "    </tr>\n",
       "    <tr>\n",
       "      <th>3</th>\n",
       "      <td>American Samoa</td>\n",
       "      <td>OCEANIA</td>\n",
       "      <td>57794</td>\n",
       "      <td>8000.0</td>\n",
       "      <td>97.0</td>\n",
       "      <td>2.0</td>\n",
       "    </tr>\n",
       "    <tr>\n",
       "      <th>4</th>\n",
       "      <td>Andorra</td>\n",
       "      <td>WESTERN EUROPE</td>\n",
       "      <td>71201</td>\n",
       "      <td>19000.0</td>\n",
       "      <td>100.0</td>\n",
       "      <td>3.0</td>\n",
       "    </tr>\n",
       "    <tr>\n",
       "      <th>...</th>\n",
       "      <td>...</td>\n",
       "      <td>...</td>\n",
       "      <td>...</td>\n",
       "      <td>...</td>\n",
       "      <td>...</td>\n",
       "      <td>...</td>\n",
       "    </tr>\n",
       "    <tr>\n",
       "      <th>222</th>\n",
       "      <td>West Bank</td>\n",
       "      <td>NEAR EAST</td>\n",
       "      <td>2460492</td>\n",
       "      <td>800.0</td>\n",
       "      <td>NaN</td>\n",
       "      <td>3.0</td>\n",
       "    </tr>\n",
       "    <tr>\n",
       "      <th>223</th>\n",
       "      <td>Western Sahara</td>\n",
       "      <td>NORTHERN AFRICA</td>\n",
       "      <td>273008</td>\n",
       "      <td>NaN</td>\n",
       "      <td>NaN</td>\n",
       "      <td>1.0</td>\n",
       "    </tr>\n",
       "    <tr>\n",
       "      <th>224</th>\n",
       "      <td>Yemen</td>\n",
       "      <td>NEAR EAST</td>\n",
       "      <td>21456188</td>\n",
       "      <td>800.0</td>\n",
       "      <td>50.2</td>\n",
       "      <td>1.0</td>\n",
       "    </tr>\n",
       "    <tr>\n",
       "      <th>225</th>\n",
       "      <td>Zambia</td>\n",
       "      <td>SUB-SAHARAN AFRICA</td>\n",
       "      <td>11502010</td>\n",
       "      <td>800.0</td>\n",
       "      <td>80.6</td>\n",
       "      <td>2.0</td>\n",
       "    </tr>\n",
       "    <tr>\n",
       "      <th>226</th>\n",
       "      <td>Zimbabwe</td>\n",
       "      <td>SUB-SAHARAN AFRICA</td>\n",
       "      <td>12236805</td>\n",
       "      <td>1900.0</td>\n",
       "      <td>90.7</td>\n",
       "      <td>2.0</td>\n",
       "    </tr>\n",
       "  </tbody>\n",
       "</table>\n",
       "<p>227 rows × 6 columns</p>\n",
       "</div>"
      ],
      "text/plain": [
       "             Country                               Region  Population  \\\n",
       "0       Afghanistan         ASIA (EX. NEAR EAST)             31056997   \n",
       "1           Albania   EASTERN EUROPE                          3581655   \n",
       "2           Algeria   NORTHERN AFRICA                        32930091   \n",
       "3    American Samoa   OCEANIA                                   57794   \n",
       "4           Andorra   WESTERN EUROPE                            71201   \n",
       "..               ...                                  ...         ...   \n",
       "222       West Bank   NEAR EAST                               2460492   \n",
       "223  Western Sahara   NORTHERN AFRICA                          273008   \n",
       "224           Yemen   NEAR EAST                              21456188   \n",
       "225          Zambia   SUB-SAHARAN AFRICA                     11502010   \n",
       "226        Zimbabwe   SUB-SAHARAN AFRICA                     12236805   \n",
       "\n",
       "     GDP ($ per capita)  Literacy (%)  Climate  \n",
       "0                 700.0          36.0      1.0  \n",
       "1                4500.0          86.5      3.0  \n",
       "2                6000.0          70.0      1.0  \n",
       "3                8000.0          97.0      2.0  \n",
       "4               19000.0         100.0      3.0  \n",
       "..                  ...           ...      ...  \n",
       "222               800.0           NaN      3.0  \n",
       "223                 NaN           NaN      1.0  \n",
       "224               800.0          50.2      1.0  \n",
       "225               800.0          80.6      2.0  \n",
       "226              1900.0          90.7      2.0  \n",
       "\n",
       "[227 rows x 6 columns]"
      ]
     },
     "execution_count": 60,
     "metadata": {},
     "output_type": "execute_result"
    }
   ],
   "source": [
    "url = \"https://raw.githubusercontent.com/Mehul-Agrawal410/SpeakSpeare/main/Week%201/countries.csv\"\n",
    "\n",
    "df = pd.read_csv(url)\n",
    "df"
   ]
  },
  {
   "cell_type": "markdown",
   "metadata": {
    "id": "IZpC6x78kuhH"
   },
   "source": [
    "*(Optional)*: You can rename the columns for your convenience later on. Look up the syntax for renaming columns"
   ]
  },
  {
   "cell_type": "code",
   "execution_count": null,
   "metadata": {
    "id": "_O2mUQC5kuhH"
   },
   "outputs": [],
   "source": []
  },
  {
   "cell_type": "markdown",
   "metadata": {
    "id": "tw9SUpdtkuhI"
   },
   "source": [
    "**Q1: How many countries does the dataframe contain?**\n",
    "\n",
    "Hint: Use the `.shape` method."
   ]
  },
  {
   "cell_type": "code",
   "execution_count": 63,
   "metadata": {
    "id": "k6rWIie5kuhI"
   },
   "outputs": [
    {
     "name": "stdout",
     "output_type": "stream",
     "text": [
      "There are (227, 6) countries in the dataset\n"
     ]
    }
   ],
   "source": [
    "num_countries = df.shape\n",
    "print(f'There are {num_countries} countries in the dataset')"
   ]
  },
  {
   "cell_type": "markdown",
   "metadata": {
    "id": "bdYU22SVkuhI"
   },
   "source": [
    "**Q2: Retrieve a list of the Regions from the dataframe?**\n",
    "\n",
    "*Hint: Use the `.unique` method of a series.*"
   ]
  },
  {
   "cell_type": "code",
   "execution_count": 65,
   "metadata": {
    "id": "m4EWf5cckuhJ"
   },
   "outputs": [
    {
     "data": {
      "text/plain": [
       "<bound method Series.unique of 0            ASIA (EX. NEAR EAST)         \n",
       "1      EASTERN EUROPE                     \n",
       "2      NORTHERN AFRICA                    \n",
       "3      OCEANIA                            \n",
       "4      WESTERN EUROPE                     \n",
       "                      ...                 \n",
       "222    NEAR EAST                          \n",
       "223    NORTHERN AFRICA                    \n",
       "224    NEAR EAST                          \n",
       "225    SUB-SAHARAN AFRICA                 \n",
       "226    SUB-SAHARAN AFRICA                 \n",
       "Name: Region, Length: 227, dtype: object>"
      ]
     },
     "execution_count": 65,
     "metadata": {},
     "output_type": "execute_result"
    }
   ],
   "source": [
    "continents = df[\"Region\"].unique\n",
    "continents"
   ]
  },
  {
   "cell_type": "markdown",
   "metadata": {
    "id": "fgb_wEOtkuhJ"
   },
   "source": [
    "**Q3: What is the total population of all the countries listed in this dataset?**"
   ]
  },
  {
   "cell_type": "code",
   "execution_count": 66,
   "metadata": {
    "id": "zPDlXaYHkuhS"
   },
   "outputs": [
    {
     "name": "stdout",
     "output_type": "stream",
     "text": [
      "The total population is 6524044551.\n"
     ]
    }
   ],
   "source": [
    "total_population = df['Population'].sum()\n",
    "print(f'The total population is {total_population}.')"
   ]
  },
  {
   "cell_type": "markdown",
   "metadata": {
    "id": "jFxZbJGCkuhS"
   },
   "source": [
    "**Q4: Create a dataframe containing 10 countries with the highest population.**\n",
    "\n",
    "*Hint: Chain the `sort_values` and `head` methods.*"
   ]
  },
  {
   "cell_type": "code",
   "execution_count": 71,
   "metadata": {
    "id": "rcq8vPngkuhT",
    "scrolled": true
   },
   "outputs": [
    {
     "data": {
      "text/plain": [
       "42     1313973713\n",
       "94     1095351995\n",
       "214     298444215\n",
       "95      245452739\n",
       "27      188078227\n",
       "Name: Population, dtype: int64"
      ]
     },
     "execution_count": 71,
     "metadata": {},
     "output_type": "execute_result"
    }
   ],
   "source": [
    "most_populous_df = df['Population'].sort_values(ascending=False)\n",
    "most_populous_df.head()"
   ]
  },
  {
   "cell_type": "markdown",
   "metadata": {
    "id": "rQO-O0k7kuhT"
   },
   "source": [
    "**Q5: Add a new column in `countries_df` to record the overall GDP per country (product of population & per capita GDP).**"
   ]
  },
  {
   "cell_type": "code",
   "execution_count": 72,
   "metadata": {
    "id": "8gmp4riukuhT"
   },
   "outputs": [
    {
     "data": {
      "text/html": [
       "<div>\n",
       "<style scoped>\n",
       "    .dataframe tbody tr th:only-of-type {\n",
       "        vertical-align: middle;\n",
       "    }\n",
       "\n",
       "    .dataframe tbody tr th {\n",
       "        vertical-align: top;\n",
       "    }\n",
       "\n",
       "    .dataframe thead th {\n",
       "        text-align: right;\n",
       "    }\n",
       "</style>\n",
       "<table border=\"1\" class=\"dataframe\">\n",
       "  <thead>\n",
       "    <tr style=\"text-align: right;\">\n",
       "      <th></th>\n",
       "      <th>Country</th>\n",
       "      <th>Region</th>\n",
       "      <th>Population</th>\n",
       "      <th>GDP ($ per capita)</th>\n",
       "      <th>Literacy (%)</th>\n",
       "      <th>Climate</th>\n",
       "      <th>gdp</th>\n",
       "    </tr>\n",
       "  </thead>\n",
       "  <tbody>\n",
       "    <tr>\n",
       "      <th>0</th>\n",
       "      <td>Afghanistan</td>\n",
       "      <td>ASIA (EX. NEAR EAST)</td>\n",
       "      <td>31056997</td>\n",
       "      <td>700.0</td>\n",
       "      <td>36.0</td>\n",
       "      <td>1.0</td>\n",
       "      <td>2.173990e+10</td>\n",
       "    </tr>\n",
       "    <tr>\n",
       "      <th>1</th>\n",
       "      <td>Albania</td>\n",
       "      <td>EASTERN EUROPE</td>\n",
       "      <td>3581655</td>\n",
       "      <td>4500.0</td>\n",
       "      <td>86.5</td>\n",
       "      <td>3.0</td>\n",
       "      <td>1.611745e+10</td>\n",
       "    </tr>\n",
       "    <tr>\n",
       "      <th>2</th>\n",
       "      <td>Algeria</td>\n",
       "      <td>NORTHERN AFRICA</td>\n",
       "      <td>32930091</td>\n",
       "      <td>6000.0</td>\n",
       "      <td>70.0</td>\n",
       "      <td>1.0</td>\n",
       "      <td>1.975805e+11</td>\n",
       "    </tr>\n",
       "    <tr>\n",
       "      <th>3</th>\n",
       "      <td>American Samoa</td>\n",
       "      <td>OCEANIA</td>\n",
       "      <td>57794</td>\n",
       "      <td>8000.0</td>\n",
       "      <td>97.0</td>\n",
       "      <td>2.0</td>\n",
       "      <td>4.623520e+08</td>\n",
       "    </tr>\n",
       "    <tr>\n",
       "      <th>4</th>\n",
       "      <td>Andorra</td>\n",
       "      <td>WESTERN EUROPE</td>\n",
       "      <td>71201</td>\n",
       "      <td>19000.0</td>\n",
       "      <td>100.0</td>\n",
       "      <td>3.0</td>\n",
       "      <td>1.352819e+09</td>\n",
       "    </tr>\n",
       "  </tbody>\n",
       "</table>\n",
       "</div>"
      ],
      "text/plain": [
       "           Country                               Region  Population  \\\n",
       "0     Afghanistan         ASIA (EX. NEAR EAST)             31056997   \n",
       "1         Albania   EASTERN EUROPE                          3581655   \n",
       "2         Algeria   NORTHERN AFRICA                        32930091   \n",
       "3  American Samoa   OCEANIA                                   57794   \n",
       "4         Andorra   WESTERN EUROPE                            71201   \n",
       "\n",
       "   GDP ($ per capita)  Literacy (%)  Climate           gdp  \n",
       "0               700.0          36.0      1.0  2.173990e+10  \n",
       "1              4500.0          86.5      3.0  1.611745e+10  \n",
       "2              6000.0          70.0      1.0  1.975805e+11  \n",
       "3              8000.0          97.0      2.0  4.623520e+08  \n",
       "4             19000.0         100.0      3.0  1.352819e+09  "
      ]
     },
     "execution_count": 72,
     "metadata": {},
     "output_type": "execute_result"
    }
   ],
   "source": [
    "df['gdp'] = df['Population']*df['GDP ($ per capita)']\n",
    "df.head()"
   ]
  },
  {
   "cell_type": "markdown",
   "metadata": {
    "id": "X-acprTKkuhT"
   },
   "source": [
    "**Q6: Create a data frame that counts the number countries in each region?**\n",
    "\n",
    "*Hint: Use `groupby`, select the `location` column and aggregate using `count`.*"
   ]
  },
  {
   "cell_type": "code",
   "execution_count": 77,
   "metadata": {
    "id": "tUY1jEnfkuhU"
   },
   "outputs": [
    {
     "data": {
      "text/html": [
       "<div>\n",
       "<style scoped>\n",
       "    .dataframe tbody tr th:only-of-type {\n",
       "        vertical-align: middle;\n",
       "    }\n",
       "\n",
       "    .dataframe tbody tr th {\n",
       "        vertical-align: top;\n",
       "    }\n",
       "\n",
       "    .dataframe thead th {\n",
       "        text-align: right;\n",
       "    }\n",
       "</style>\n",
       "<table border=\"1\" class=\"dataframe\">\n",
       "  <thead>\n",
       "    <tr style=\"text-align: right;\">\n",
       "      <th></th>\n",
       "      <th>Region</th>\n",
       "      <th>Country Count</th>\n",
       "    </tr>\n",
       "  </thead>\n",
       "  <tbody>\n",
       "    <tr>\n",
       "      <th>0</th>\n",
       "      <td>ASIA (EX. NEAR EAST)</td>\n",
       "      <td>28</td>\n",
       "    </tr>\n",
       "    <tr>\n",
       "      <th>1</th>\n",
       "      <td>BALTICS</td>\n",
       "      <td>3</td>\n",
       "    </tr>\n",
       "    <tr>\n",
       "      <th>2</th>\n",
       "      <td>C.W. OF IND. STATES</td>\n",
       "      <td>12</td>\n",
       "    </tr>\n",
       "    <tr>\n",
       "      <th>3</th>\n",
       "      <td>EASTERN EUROPE</td>\n",
       "      <td>12</td>\n",
       "    </tr>\n",
       "    <tr>\n",
       "      <th>4</th>\n",
       "      <td>LATIN AMER. &amp; CARIB</td>\n",
       "      <td>45</td>\n",
       "    </tr>\n",
       "    <tr>\n",
       "      <th>5</th>\n",
       "      <td>NEAR EAST</td>\n",
       "      <td>16</td>\n",
       "    </tr>\n",
       "    <tr>\n",
       "      <th>6</th>\n",
       "      <td>NORTHERN AFRICA</td>\n",
       "      <td>6</td>\n",
       "    </tr>\n",
       "    <tr>\n",
       "      <th>7</th>\n",
       "      <td>NORTHERN AMERICA</td>\n",
       "      <td>5</td>\n",
       "    </tr>\n",
       "    <tr>\n",
       "      <th>8</th>\n",
       "      <td>OCEANIA</td>\n",
       "      <td>21</td>\n",
       "    </tr>\n",
       "    <tr>\n",
       "      <th>9</th>\n",
       "      <td>SUB-SAHARAN AFRICA</td>\n",
       "      <td>51</td>\n",
       "    </tr>\n",
       "    <tr>\n",
       "      <th>10</th>\n",
       "      <td>WESTERN EUROPE</td>\n",
       "      <td>28</td>\n",
       "    </tr>\n",
       "  </tbody>\n",
       "</table>\n",
       "</div>"
      ],
      "text/plain": [
       "                                 Region  Country Count\n",
       "0         ASIA (EX. NEAR EAST)                      28\n",
       "1   BALTICS                                          3\n",
       "2                  C.W. OF IND. STATES              12\n",
       "3   EASTERN EUROPE                                  12\n",
       "4               LATIN AMER. & CARIB                 45\n",
       "5   NEAR EAST                                       16\n",
       "6   NORTHERN AFRICA                                  6\n",
       "7   NORTHERN AMERICA                                 5\n",
       "8   OCEANIA                                         21\n",
       "9   SUB-SAHARAN AFRICA                              51\n",
       "10  WESTERN EUROPE                                  28"
      ]
     },
     "execution_count": 77,
     "metadata": {},
     "output_type": "execute_result"
    }
   ],
   "source": [
    "country_counts_df = df.groupby('Region').size().reset_index(name='Country Count')\n",
    "\n",
    "\n",
    "country_counts_df"
   ]
  },
  {
   "cell_type": "markdown",
   "metadata": {
    "id": "I5xnLU7OkuhU"
   },
   "source": [
    "**Q7: Create a data frame showing the total population of each region.**\n",
    "\n",
    "*Hint: Use `groupby`, select the population column and aggregate using `sum`.*"
   ]
  },
  {
   "cell_type": "code",
   "execution_count": 83,
   "metadata": {
    "id": "xmPgGJ1skuhU"
   },
   "outputs": [
    {
     "data": {
      "text/html": [
       "<div>\n",
       "<style scoped>\n",
       "    .dataframe tbody tr th:only-of-type {\n",
       "        vertical-align: middle;\n",
       "    }\n",
       "\n",
       "    .dataframe tbody tr th {\n",
       "        vertical-align: top;\n",
       "    }\n",
       "\n",
       "    .dataframe thead th {\n",
       "        text-align: right;\n",
       "    }\n",
       "</style>\n",
       "<table border=\"1\" class=\"dataframe\">\n",
       "  <thead>\n",
       "    <tr style=\"text-align: right;\">\n",
       "      <th></th>\n",
       "      <th>Region</th>\n",
       "      <th>popu</th>\n",
       "    </tr>\n",
       "  </thead>\n",
       "  <tbody>\n",
       "    <tr>\n",
       "      <th>0</th>\n",
       "      <td>ASIA (EX. NEAR EAST)</td>\n",
       "      <td>3687982236</td>\n",
       "    </tr>\n",
       "    <tr>\n",
       "      <th>1</th>\n",
       "      <td>BALTICS</td>\n",
       "      <td>7184974</td>\n",
       "    </tr>\n",
       "    <tr>\n",
       "      <th>2</th>\n",
       "      <td>C.W. OF IND. STATES</td>\n",
       "      <td>280081548</td>\n",
       "    </tr>\n",
       "    <tr>\n",
       "      <th>3</th>\n",
       "      <td>EASTERN EUROPE</td>\n",
       "      <td>119914717</td>\n",
       "    </tr>\n",
       "    <tr>\n",
       "      <th>4</th>\n",
       "      <td>LATIN AMER. &amp; CARIB</td>\n",
       "      <td>561824599</td>\n",
       "    </tr>\n",
       "    <tr>\n",
       "      <th>5</th>\n",
       "      <td>NEAR EAST</td>\n",
       "      <td>195068377</td>\n",
       "    </tr>\n",
       "    <tr>\n",
       "      <th>6</th>\n",
       "      <td>NORTHERN AFRICA</td>\n",
       "      <td>161407133</td>\n",
       "    </tr>\n",
       "    <tr>\n",
       "      <th>7</th>\n",
       "      <td>NORTHERN AMERICA</td>\n",
       "      <td>331672307</td>\n",
       "    </tr>\n",
       "    <tr>\n",
       "      <th>8</th>\n",
       "      <td>OCEANIA</td>\n",
       "      <td>33131662</td>\n",
       "    </tr>\n",
       "    <tr>\n",
       "      <th>9</th>\n",
       "      <td>SUB-SAHARAN AFRICA</td>\n",
       "      <td>749437000</td>\n",
       "    </tr>\n",
       "    <tr>\n",
       "      <th>10</th>\n",
       "      <td>WESTERN EUROPE</td>\n",
       "      <td>396339998</td>\n",
       "    </tr>\n",
       "  </tbody>\n",
       "</table>\n",
       "</div>"
      ],
      "text/plain": [
       "                                 Region        popu\n",
       "0         ASIA (EX. NEAR EAST)           3687982236\n",
       "1   BALTICS                                 7184974\n",
       "2                  C.W. OF IND. STATES    280081548\n",
       "3   EASTERN EUROPE                        119914717\n",
       "4               LATIN AMER. & CARIB       561824599\n",
       "5   NEAR EAST                             195068377\n",
       "6   NORTHERN AFRICA                       161407133\n",
       "7   NORTHERN AMERICA                      331672307\n",
       "8   OCEANIA                                33131662\n",
       "9   SUB-SAHARAN AFRICA                    749437000\n",
       "10  WESTERN EUROPE                        396339998"
      ]
     },
     "execution_count": 83,
     "metadata": {},
     "output_type": "execute_result"
    }
   ],
   "source": [
    "df1 = df['Population'].sum()\n",
    "region_populations_df = df.groupby('Region')['Population'].sum().reset_index(name ='popu')\n",
    "\n",
    "region_populations_df"
   ]
  },
  {
   "cell_type": "markdown",
   "metadata": {
    "id": "n2tlLfQpkuhU"
   },
   "source": [
    "**Q8: Count the number of null values in each column**\n",
    "\n",
    "*Hint: Use `isna`.*"
   ]
  },
  {
   "cell_type": "code",
   "execution_count": 93,
   "metadata": {
    "id": "bx32XCmFkuhU"
   },
   "outputs": [
    {
     "data": {
      "text/plain": [
       "Country                0\n",
       "Region                 0\n",
       "Population             0\n",
       "GDP ($ per capita)     1\n",
       "Literacy (%)          18\n",
       "Climate               22\n",
       "gdp                    1\n",
       "dtype: int64"
      ]
     },
     "execution_count": 93,
     "metadata": {},
     "output_type": "execute_result"
    }
   ],
   "source": [
    "na_values = df.isna().sum()\n",
    "na_values"
   ]
  },
  {
   "cell_type": "markdown",
   "metadata": {
    "id": "aDwQRewykuhV"
   },
   "source": [
    "**Q9: Fill all the null values with the mean of their respective coluumn**\n",
    "\n",
    "*Hint: Use `mean` and `fillna`.*"
   ]
  },
  {
   "cell_type": "code",
   "execution_count": 91,
   "metadata": {
    "id": "ucumufYFkuhV"
   },
   "outputs": [],
   "source": [
    "# <START>\n",
    "\n",
    "df_filled = df.apply(lambda col: col.fillna(col.mean()) if col.dtype in ['float64', 'int64'] else col)\n",
    "# <END>"
   ]
  },
  {
   "cell_type": "markdown",
   "metadata": {
    "id": "0yjHgeEXkuhV"
   },
   "source": [
    "**Q10: Create a dataframe containing 10 countries with the lowest GDP per capita, among the counties with population greater than 100 million.**"
   ]
  },
  {
   "cell_type": "code",
   "execution_count": 109,
   "metadata": {
    "id": "_O5-X6UCkuhV"
   },
   "outputs": [
    {
     "data": {
      "text/plain": [
       "152      900.0\n",
       "16      1900.0\n",
       "156     2100.0\n",
       "94      2900.0\n",
       "95      3200.0\n",
       "42      5000.0\n",
       "27      7600.0\n",
       "169     8900.0\n",
       "135     9000.0\n",
       "103    28200.0\n",
       "Name: GDP ($ per capita), dtype: float64"
      ]
     },
     "execution_count": 109,
     "metadata": {},
     "output_type": "execute_result"
    }
   ],
   "source": [
    "# <START>\n",
    "filtered_df = df[df['Population'] > 100000000]\n",
    "df3 = filtered_df['GDP ($ per capita)'].sort_values()\n",
    "df3.head(10)\n",
    "# <END>"
   ]
  },
  {
   "cell_type": "markdown",
   "metadata": {
    "id": "Ni66jSVfkuhW"
   },
   "source": [
    "# **Matplotlib**\n"
   ]
  },
  {
   "cell_type": "markdown",
   "metadata": {
    "id": "JFt34EhekuhW"
   },
   "source": [
    "Data visualisation is a very important part of data science. It helps us understand the data better and draw conclusions from it and Matplotlib is the most popular library in python for this step.\n",
    "\n",
    "In this section, you'll navigate through a series of challenges that not only familiarize you with Matplotlib but also showcase the diverse array of plots and their practical applications. This will not only enhance your Matplotlib skills but also sharpen your ability to choose the right plot for the right scenario.\n",
    "\n",
    "So let's delve in and master the craft of transforming data into compelling visual insights. We will have start with importing the matplotlib library"
   ]
  },
  {
   "cell_type": "code",
   "execution_count": 110,
   "metadata": {
    "id": "5BYjZI50kuhW"
   },
   "outputs": [],
   "source": [
    "import matplotlib.pyplot as plt"
   ]
  },
  {
   "cell_type": "markdown",
   "metadata": {
    "id": "b-icyChckuhW"
   },
   "source": [
    "Now, let's start with a simple x vs y plot.\n",
    "1. Create 2 numpy arrays `x` and `y` of random integers, of size (5,1)\n",
    "2. Create a plot of `x` vs `y` using the `plot()` function\n",
    "3. Add labels to the X and Y axes\n",
    "4. Add a title to the plot"
   ]
  },
  {
   "cell_type": "code",
   "execution_count": 113,
   "metadata": {
    "id": "UaLaWY39kuhW"
   },
   "outputs": [
    {
     "data": {
      "image/png": "[encoded data removed]",
      "text/plain": [
       "<Figure size 640x480 with 1 Axes>"
      ]
     },
     "metadata": {},
     "output_type": "display_data"
    }
   ],
   "source": [
    "# <START>\n",
    "x= np.random.randint(100,size=(5,1))\n",
    "y= np.random.randint(100,size=(5,1))\n",
    "plt.plot(x, y, 'o')  \n",
    "plt.xlabel(\"X-axis Label\")\n",
    "plt.title(\"Plot of x vs y\")\n",
    "# <END>\n",
    "plt.show()"
   ]
  },
  {
   "cell_type": "markdown",
   "metadata": {
    "id": "0JtysfjYkuhX"
   },
   "source": [
    "### **Bar Graphs**\n",
    "\n",
    "Bar graph uses bars to compare data among different categories. It is well suited when you want to measure the changes over a period of time. It can be represented horizontally or vertically. Also, the important thing to keep in mind is that longer the bar, greater is the value.\n",
    "\n",
    "We will be plotting a grouped bar chart in this task. More often than not, it’s more interesting to compare values across two dimensions and for that, a grouped bar chart is needed. (Although no need to worry, making a grouped chart is just calling the `.bar()` command twice :)"
   ]
  },
  {
   "cell_type": "code",
   "execution_count": 114,
   "metadata": {
    "id": "ojCW7pFLkuhY"
   },
   "outputs": [],
   "source": [
    "# Create the data to be plotted\n",
    "x1 = np.array([0.25,1.25,2.25,3.25,4.25]) #this will decide the x-coordinate of the centre of the bars\n",
    "y1 = np.array([10,55,80,32,40])\n",
    "width = 0.5 # width of the bars\n",
    "x2 = x1 + width # this will shift the x-coordinate of the centre of the bars by width\n",
    "y2 = np.array([42,26,10,29,66])"
   ]
  },
  {
   "cell_type": "markdown",
   "metadata": {
    "id": "2hdTZet-kuhY"
   },
   "source": [
    "Now,\n",
    "1. Create the bar graphs. Assign different label and color to both the plots.\n",
    "2. Create legend, title and axes labels\n",
    "3. Play around with the values to get a sense of how everything is working"
   ]
  },
  {
   "cell_type": "code",
   "execution_count": 120,
   "metadata": {
    "id": "lMh91WorkuhY"
   },
   "outputs": [
    {
     "data": {
      "text/plain": [
       "Text(0, 0.5, 'Values')"
      ]
     },
     "execution_count": 120,
     "metadata": {},
     "output_type": "execute_result"
    },
    {
     "data": {
      "image/png": "[encoded data removed]",
      "text/plain": [
       "<Figure size 640x480 with 1 Axes>"
      ]
     },
     "metadata": {},
     "output_type": "display_data"
    }
   ],
   "source": [
    "plt.bar(x2,y2,0.5)\n",
    "plt.xlabel(\"Categories\")\n",
    "plt.ylabel(\"Values\")\n"
   ]
  },
  {
   "cell_type": "markdown",
   "metadata": {
    "id": "AZmnrZ_ikuhZ"
   },
   "source": [
    "### **Histograms**\n",
    "\n",
    "Histograms are used to show a distribution whereas a bar chart is used to compare different entities. Histograms are useful when you have arrays or a very long list. I have to plot the age of population with respect to bin. Now, bin refers to the range of values that are divided into series of intervals. Bins are usually created of the same size.\n",
    "\n",
    "For this task, you should:\n",
    "1. Create bins of interval 10 from 0 to 100. Use `np.arange`\n",
    "2. Generate data to be plotted. You can use numpy for this or write the data yourself. Pick atleast 30 valus.\n",
    "3. Plot the histogram, label the axes and title the plot\n",
    "4. Customise the color and width of the plot as per your choice"
   ]
  },
  {
   "cell_type": "code",
   "execution_count": null,
   "metadata": {
    "id": "MTwBQQGVkuhZ"
   },
   "outputs": [],
   "source": []
  },
  {
   "cell_type": "markdown",
   "metadata": {
    "id": "YmBL9XNfkuhZ"
   },
   "source": [
    "### **Scatter plot**\n",
    "\n",
    "Usually we need scatter plots in order to compare variables, for example, how much one variable is affected by another variable to build a relation out of it. The data is displayed as a collection of points, each having the value of one variable which determines the position on the horizontal axis and the value of other variable determines the position on the vertical axis\n",
    "\n",
    "1. Create 2 sets of data, `(x1,y1)` and `(x2,y2)` with 8 values each\n",
    "2. Create the scatter plots for both of them and give different labels to each\n",
    "3. Stylise each plot, by giving different colors and marker style. *(Use `marker` argument)*\n",
    "4. Provide legend"
   ]
  },
  {
   "cell_type": "code",
   "execution_count": null,
   "metadata": {
    "id": "ygHKmJJakuha"
   },
   "outputs": [],
   "source": []
  },
  {
   "cell_type": "markdown",
   "metadata": {
    "id": "h1rYhSoMkuha"
   },
   "source": [
    "### **Subplots**\n",
    "\n",
    "*Look up the `subplot()` command and it's use*\n",
    "\n",
    "1. Generate multiple datasets for different plots.\n",
    "2. Create a figure with multiple subplots (e.g., a 2x2 grid).\n",
    "3. Plot different types of charts (line, scatter, bar) in each subplot. You are free to choose any kind of data and plot."
   ]
  },
  {
   "cell_type": "code",
   "execution_count": null,
   "metadata": {
    "id": "L-IUOYBZkuha"
   },
   "outputs": [],
   "source": []
  }
 ],
 "metadata": {
  "colab": {
   "include_colab_link": true,
   "provenance": []
  },
  "kernelspec": {
   "display_name": "Python 3 (ipykernel)",
   "language": "python",
   "name": "python3"
  },
  "language_info": {
   "codemirror_mode": {
    "name": "ipython",
    "version": 3
   },
   "file_extension": ".py",
   "mimetype": "text/x-python",
   "name": "python",
   "nbconvert_exporter": "python",
   "pygments_lexer": "ipython3",
   "version": "3.10.5"
  }
 },
 "nbformat": 4,
 "nbformat_minor": 4
}
